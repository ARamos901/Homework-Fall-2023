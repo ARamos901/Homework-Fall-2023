{
 "cells": [
  {
   "cell_type": "markdown",
   "id": "7f1c9f98",
   "metadata": {},
   "source": [
    "I made any person associated with the school is represented by Person (the base class). An attribute, PID, is used to represent a Person. A person’s first name and last name are also recorded. An abstract method, update_status, is defined in Person.\n",
    "\n",
    "I made student and a teacher are represented by Student and Teacher (the subclasses).\n",
    "\n",
    "I made it where a student’s status can be freshman, sophomore, junior, senior, or graduate. Then, the method, update_status, is implemented to update student’s status. An exception is raised and caught if a status to be updated is not legit. In addition, a student has a list of courses taken. A method, enroll, is used to enroll a student to a course.  \n",
    "\n",
    "I made it where a teacher can be employed either as adjunct or permanent. Then, the method, update_status, is implemented to update teacher’s status. Again, an exception is raised and caught if a status to be updated is not legit. In addition, a method, assign_course, is used to assign a teacher to teach a course. \n",
    "\n",
    "Lastly, I printed what I requested within the parentheses for student and teacher."
   ]
  },
  {
   "cell_type": "code",
   "execution_count": 15,
   "id": "ed9938a2",
   "metadata": {},
   "outputs": [],
   "source": [
    "from abc import ABC,abstractmethod\n",
    "\n",
    "class Person:\n",
    "    def __init__(self, pid, first_name, last_name):\n",
    "        self.pid = pid\n",
    "        self.first_name = first_name\n",
    "        self.last_name = last_name\n",
    "    @abstractmethod  \n",
    "    def update_status(self, status):\n",
    "        pass\n",
    "\n",
    "class Student(Person):\n",
    "    def __init__(self, pid, first_name, last_name):\n",
    "        super().__init__(pid, first_name, last_name)\n",
    "        self.status = None\n",
    "        self.courses_taken = []\n",
    "\n",
    "    def update_status(self, new_status):\n",
    "        if new_status in [\"freshman\", \"sophomore\", \"junior\", \"senior\", \"graduate\"]:\n",
    "            self.status = new_status\n",
    "        else:\n",
    "            raise ValueError(\"status for a student is not legit\")\n",
    "\n",
    "    def enroll(self, course):\n",
    "        self.courses_taken.append(course)\n",
    "\n",
    "class Teacher(Person):\n",
    "    def __init__(self, pid, first_name, last_name):\n",
    "        super().__init__(pid, first_name, last_name)\n",
    "        self.status = None\n",
    "\n",
    "    def update_status(self, new_status):\n",
    "        if new_status in [\"adjunct\", \"permanent\"]:\n",
    "            self.status = new_status\n",
    "        else:\n",
    "            raise ValueError(\"status for a teacher is not legit\")\n",
    "\n",
    "    def assign_course(self, course):\n",
    "        pass\n",
    "    \n",
    "Student = Student(\"20041977\", \"Aiden\", \"Ramos\")\n",
    "Student.update_status(\"sophomore\")\n",
    "Student.enroll(\"CIS 195, MAT 107, HIS 107\")\n",
    "\n",
    "Teacher = Teacher(\"72549631\", \"Daniel\", \"Wu\")\n",
    "Teacher.update_status(\"permanent\")\n",
    "Teacher.assign_course(\"CIS 295\")"
   ]
  },
  {
   "cell_type": "code",
   "execution_count": 13,
   "id": "7460a008",
   "metadata": {},
   "outputs": [
    {
     "name": "stdout",
     "output_type": "stream",
     "text": [
      "['CIS 195, MAT 107, HIS 107']\n"
     ]
    }
   ],
   "source": [
    "print(Student.courses_taken)"
   ]
  },
  {
   "cell_type": "code",
   "execution_count": 14,
   "id": "9934d3e6",
   "metadata": {},
   "outputs": [
    {
     "name": "stdout",
     "output_type": "stream",
     "text": [
      "Daniel Wu\n"
     ]
    }
   ],
   "source": [
    "print(Teacher.first_name+\" \"+Teacher.last_name)"
   ]
  }
 ],
 "metadata": {
  "kernelspec": {
   "display_name": "Python 3 (ipykernel)",
   "language": "python",
   "name": "python3"
  },
  "language_info": {
   "codemirror_mode": {
    "name": "ipython",
    "version": 3
   },
   "file_extension": ".py",
   "mimetype": "text/x-python",
   "name": "python",
   "nbconvert_exporter": "python",
   "pygments_lexer": "ipython3",
   "version": "3.9.13"
  }
 },
 "nbformat": 4,
 "nbformat_minor": 5
}
