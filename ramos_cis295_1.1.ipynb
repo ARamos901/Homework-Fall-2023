{
 "cells": [
  {
   "cell_type": "code",
   "execution_count": 7,
   "id": "fc508fae-39b7-49b8-8858-32ae76e3e067",
   "metadata": {},
   "outputs": [
    {
     "data": {
      "text/plain": [
       "3.0"
      ]
     },
     "execution_count": 7,
     "metadata": {},
     "output_type": "execute_result"
    }
   ],
   "source": [
    "def average_numbers(n1,n2,n3):\n",
    "    average=0\n",
    "    average=(n1+n2+n3)/3\n",
    "    return average\n",
    "average_numbers(2,3,4)"
   ]
  },
  {
   "cell_type": "code",
   "execution_count": null,
   "id": "7e54ddd6-3211-4d46-b8ba-c32bf33bf803",
   "metadata": {},
   "outputs": [],
   "source": []
  }
 ],
 "metadata": {
  "kernelspec": {
   "display_name": "Python 3 (ipykernel)",
   "language": "python",
   "name": "python3"
  },
  "language_info": {
   "codemirror_mode": {
    "name": "ipython",
    "version": 3
   },
   "file_extension": ".py",
   "mimetype": "text/x-python",
   "name": "python",
   "nbconvert_exporter": "python",
   "pygments_lexer": "ipython3",
   "version": "3.9.13"
  }
 },
 "nbformat": 4,
 "nbformat_minor": 5
}
