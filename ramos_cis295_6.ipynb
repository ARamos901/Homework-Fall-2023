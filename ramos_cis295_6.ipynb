{
 "cells": [
  {
   "cell_type": "markdown",
   "id": "39243905",
   "metadata": {},
   "source": [
    "1. What are the parent and child classes?\n",
    "    - The parent class is \"Spell\" anad the child classes are Accio and Cofundo\n",
    "2. What does the code print out?\n",
    "    - The code prints out \"\n",
    "Accio\n",
    "Summoning Charm Accio\n",
    "No description\n",
    "Confundus Charm Confundo\n",
    "Causes the victim to become confused and befuddled\".\n",
    "\n",
    "3. Which get description method is called when ‘study spell(Confundo())’ is executed? Why?\n",
    "    - The method that is called is the get_description of the Confundo class. This is because the get_description in the Confundo class overrides the get_description in the Spell class and returns it to be printed.\n",
    "\n",
    "4.  Modify the code so that ‘print (Accio())’ will print the following description:\n",
    "Accio Summoning Charm\n",
    "This charm summons an object to the caster, potentially over a significant distance.\n",
    "    - I modified the code in the cell block below."
   ]
  },
  {
   "cell_type": "code",
   "execution_count": 85,
   "id": "00a5d541-0ad3-4b6c-bfea-a3522d06604f",
   "metadata": {},
   "outputs": [
    {
     "name": "stdout",
     "output_type": "stream",
     "text": [
      "Accio Summoning Charm\n",
      "This charm summons an object to the caster, potentially over a significant distance.\n"
     ]
    }
   ],
   "source": [
    "class Spell(object):\n",
    "    def __init__(self, incantation, name):\n",
    "        self.name = name\n",
    "        self.incantation = incantation\n",
    "        \n",
    "    def __str__(self):\n",
    "        return self.name + ' ' + self.incantation + '\\n' + self.get_description()\n",
    "    \n",
    "    def get_description(self):\n",
    "        return 'No description'\n",
    "    \n",
    "    def execute(self):\n",
    "        print (self.incantation)\n",
    "class Accio(Spell):\n",
    "    def __init__(self):\n",
    "        Spell.__init__(self, 'Summoning Charm', 'Accio')\n",
    "        \n",
    "    def get_description(self):\n",
    "        return 'This charm summons an object to the caster, potentially over a significant distance.'\n",
    "class Confundo(Spell):\n",
    "    def __init__(self):\n",
    "        Spell.__init__(self, 'Confundus Charm', 'Confundo')\n",
    "        \n",
    "    def get_description(self):\n",
    "        return 'Causes the victim to become confused and befuddled.'\n",
    "    \n",
    "def study_spell(spell):\n",
    "    print (spell)\n",
    "\n",
    "\n",
    "\n",
    "\n",
    "\n",
    "print(Accio())\n",
    "    "
   ]
  },
  {
   "cell_type": "code",
   "execution_count": 86,
   "id": "da67b553",
   "metadata": {},
   "outputs": [
    {
     "name": "stdout",
     "output_type": "stream",
     "text": [
      "Accio\n",
      "Summoning Charm Accio\n",
      "No description\n",
      "Confundus Charm Confundo\n",
      "Causes the victim to become confused and befuddled.\n"
     ]
    }
   ],
   "source": [
    "#Original Code\n",
    "\n",
    "class Spell(object):\n",
    "    def __init__(self, incantation, name):\n",
    "        self.name = name\n",
    "        self.incantation = incantation\n",
    "        \n",
    "    def __str__(self):\n",
    "        return self.name + ' ' + self.incantation + '\\n' + self.get_description()\n",
    "    \n",
    "    def get_description(self):\n",
    "        return 'No description'\n",
    "    \n",
    "    def execute(self):\n",
    "        print (self.incantation)\n",
    "class Accio(Spell):\n",
    "    def __init__(self):\n",
    "        Spell.__init__(self, 'Accio', 'Summoning Charm')\n",
    "class Confundo(Spell):\n",
    "    def __init__(self):\n",
    "        Spell.__init__(self, 'Confundo', 'Confundus Charm')\n",
    "        \n",
    "    def get_description(self):\n",
    "        return 'Causes the victim to become confused and befuddled.'\n",
    "    \n",
    "def study_spell(spell):\n",
    "    print (spell)\n",
    "spell = Accio()\n",
    "spell.execute()\n",
    "study_spell(spell)\n",
    "study_spell(Confundo())"
   ]
  },
  {
   "cell_type": "code",
   "execution_count": null,
   "id": "77ef954c",
   "metadata": {},
   "outputs": [],
   "source": []
  }
 ],
 "metadata": {
  "kernelspec": {
   "display_name": "Python 3 (ipykernel)",
   "language": "python",
   "name": "python3"
  },
  "language_info": {
   "codemirror_mode": {
    "name": "ipython",
    "version": 3
   },
   "file_extension": ".py",
   "mimetype": "text/x-python",
   "name": "python",
   "nbconvert_exporter": "python",
   "pygments_lexer": "ipython3",
   "version": "3.9.13"
  }
 },
 "nbformat": 4,
 "nbformat_minor": 5
}
