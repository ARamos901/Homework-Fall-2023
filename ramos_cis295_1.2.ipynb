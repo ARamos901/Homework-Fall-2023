{
 "cells": [
  {
   "cell_type": "code",
   "execution_count": 36,
   "id": "b48d2a8c-d995-428b-b575-da380287fbd6",
   "metadata": {},
   "outputs": [
    {
     "name": "stdout",
     "output_type": "stream",
     "text": [
      "1\n",
      "12\n",
      "123\n",
      "1234\n",
      "12345\n"
     ]
    }
   ],
   "source": [
    "def triangle_numbers(x):\n",
    "    for l in range(1, x+1):\n",
    "     for r in range(1,l+1):\n",
    "      print(r,end=\"\")\n",
    "     print()\n",
    "\n",
    "triangle_numbers(5)"
   ]
  },
  {
   "cell_type": "code",
   "execution_count": null,
   "id": "10a3174a-9038-4168-95b3-2f38fc37647a",
   "metadata": {},
   "outputs": [],
   "source": []
  }
 ],
 "metadata": {
  "kernelspec": {
   "display_name": "Python 3 (ipykernel)",
   "language": "python",
   "name": "python3"
  },
  "language_info": {
   "codemirror_mode": {
    "name": "ipython",
    "version": 3
   },
   "file_extension": ".py",
   "mimetype": "text/x-python",
   "name": "python",
   "nbconvert_exporter": "python",
   "pygments_lexer": "ipython3",
   "version": "3.9.13"
  }
 },
 "nbformat": 4,
 "nbformat_minor": 5
}
