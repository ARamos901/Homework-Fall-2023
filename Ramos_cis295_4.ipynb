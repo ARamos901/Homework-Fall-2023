{
 "cells": [
  {
   "cell_type": "markdown",
   "id": "3a1d6419-db70-4d47-a0b3-f79298a899e3",
   "metadata": {},
   "source": [
    "This code defined a function that calculates the remainder of two integers. The function takes two parameters, dividend and divisor, and returns the remainder. \n",
    "\n",
    "Within the  function, the code checks the values of the parameters. If either is 13, the code raises and catches a custom UnluckyNumberError exception with a meaningful message.\n",
    "\n",
    "Within the function,the code checked if the parameters are integers. If not, it raised and caught a custom NonIntegerError exception with a custom message. \n",
    "\n",
    "Within the function I added code that always prints out this message: “Calculating the remainder is a piece of cake” and returns the remainder if nothing goes “wrong”\n",
    "\n",
    "I wrote code to call the get_remainder() function so that my program handles a exception raised when the wrong number of parameters is given, meaning that if the number of the given parameters is not 2, e.g. get_remainder(2) or get_remainder(6, 3, 3). In addition, I  defined an exception and provided a meaningful message when catching the exception."
   ]
  },
  {
   "cell_type": "code",
   "execution_count": 2,
   "id": "bcd17a1c-fbb2-4fda-8860-69c2962d65e5",
   "metadata": {},
   "outputs": [
    {
     "name": "stdout",
     "output_type": "stream",
     "text": [
      "Calculating the remainder is a piece of cake\n"
     ]
    },
    {
     "data": {
      "text/plain": [
       "2"
      ]
     },
     "execution_count": 2,
     "metadata": {},
     "output_type": "execute_result"
    }
   ],
   "source": [
    "class NonIntegerError(Exception):\n",
    "    \"\"\"Raised when the number is not an integer.\"\"\"\n",
    "    pass\n",
    "\n",
    "\n",
    "class UnluckyNumberError(Exception):\n",
    "    \"\"\"Raised when the number is unlucky.\"\"\"\n",
    "    pass\n",
    "\n",
    "class TypeError(Exception):\n",
    "    \"Raised when incorrect parameters is given\"\n",
    "    pass\n",
    "\n",
    "\n",
    "def get_remainder(*args):\n",
    "    try:\n",
    "        if not len(args)==2:\n",
    "            raise TypeError(\"Please type two integers\")\n",
    "        \n",
    "        n1, n2=args\n",
    "        \n",
    "        if not (isinstance(n1, int) and isinstance(n2, int)):\n",
    "            raise NonIntegerError(\"Integers only please!\")\n",
    "\n",
    "        if n1 == 13 or n2 == 13:\n",
    "            raise UnluckyNumberError(\"One of these numbers is unlucky...\")\n",
    "            \n",
    "            \n",
    "\n",
    "        remainder = n1 % n2\n",
    "        return remainder\n",
    "    \n",
    "    except NonIntegerError as e:\n",
    "        print(\"Error:\", str(e))\n",
    "    except UnluckyNumberError as e:\n",
    "        print(\"Error:\", str(e))\n",
    "    finally:\n",
    "        print(\"Calculating the remainder is a piece of cake\")\n",
    "\n",
    "get_remainder(98,8)"
   ]
  }
 ],
 "metadata": {
  "kernelspec": {
   "display_name": "Python 3 (ipykernel)",
   "language": "python",
   "name": "python3"
  },
  "language_info": {
   "codemirror_mode": {
    "name": "ipython",
    "version": 3
   },
   "file_extension": ".py",
   "mimetype": "text/x-python",
   "name": "python",
   "nbconvert_exporter": "python",
   "pygments_lexer": "ipython3",
   "version": "3.9.13"
  }
 },
 "nbformat": 4,
 "nbformat_minor": 5
}
