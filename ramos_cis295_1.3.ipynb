{
 "cells": [
  {
   "cell_type": "code",
   "execution_count": 106,
   "id": "b661792d-611c-460b-91ea-17ab8984f265",
   "metadata": {},
   "outputs": [
    {
     "name": "stdout",
     "output_type": "stream",
     "text": [
      "cbazyx\n"
     ]
    }
   ],
   "source": [
    "def string1(st, si):\n",
    "    slicedstring1 = st[::-1]\n",
    "    slicedstring2 = si[::-1]\n",
    "    slicedstrings = slicedstring1 + slicedstring2\n",
    "    return slicedstrings\n",
    "\n",
    "print(string1('abc', 'xyz'))"
   ]
  },
  {
   "cell_type": "code",
   "execution_count": null,
   "id": "c6907409-4bdf-437c-8ba5-ba21cb725278",
   "metadata": {},
   "outputs": [],
   "source": []
  }
 ],
 "metadata": {
  "kernelspec": {
   "display_name": "Python 3 (ipykernel)",
   "language": "python",
   "name": "python3"
  },
  "language_info": {
   "codemirror_mode": {
    "name": "ipython",
    "version": 3
   },
   "file_extension": ".py",
   "mimetype": "text/x-python",
   "name": "python",
   "nbconvert_exporter": "python",
   "pygments_lexer": "ipython3",
   "version": "3.9.13"
  }
 },
 "nbformat": 4,
 "nbformat_minor": 5
}
