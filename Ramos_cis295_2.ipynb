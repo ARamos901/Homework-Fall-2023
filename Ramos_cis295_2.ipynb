{
 "cells": [
  {
   "cell_type": "markdown",
   "id": "a13dc504-2ae6-41e4-a706-afe8a4504b62",
   "metadata": {},
   "source": [
    "2.1\n",
    "This code took two arguments, a list of strings and an integer  and made, and returned, a new list by appending each number from the sequence from 1 to the integer given (the second argument) to each item of the list (the first argument). "
   ]
  },
  {
   "cell_type": "code",
   "execution_count": 1,
   "id": "2e2ccc42-3bd3-4772-897c-acb9a0c8624a",
   "metadata": {},
   "outputs": [
    {
     "data": {
      "text/plain": [
       "['hello1', 'hello2', 'hello3', 'goodbye1', 'goodbye2', 'goodbye3']"
      ]
     },
     "execution_count": 1,
     "metadata": {},
     "output_type": "execute_result"
    }
   ],
   "source": [
    "def combined_strings(string1,number):\n",
    "    new_string1=[]\n",
    "    for s in string1:\n",
    "     for n in range(1,number+1):\n",
    "      new_string1.append(s+str(n))\n",
    "    return new_string1\n",
    "    \n",
    "    \n",
    "\n",
    "combined_strings(['hello','goodbye'],3)"
   ]
  },
  {
   "cell_type": "code",
   "execution_count": null,
   "id": "f6f17326-5f3b-4ef2-a150-9a45714c1700",
   "metadata": {},
   "outputs": [],
   "source": []
  },
  {
   "cell_type": "markdown",
   "id": "df3f916c-23fd-45b7-92ce-65b459d985c8",
   "metadata": {},
   "source": [
    "2.2\n",
    "This code counts the characters and numbers appearing in a given string (as argument). The function only counted alphanumeric characters,i.e., a-z, A-Z, and 0-9."
   ]
  },
  {
   "cell_type": "code",
   "execution_count": 2,
   "id": "72815194-9e07-4e08-a7ce-51c58fb87593",
   "metadata": {},
   "outputs": [
    {
     "name": "stdout",
     "output_type": "stream",
     "text": [
      "{'h': 1, 'e': 1, 'l': 2, 'o': 1}\n"
     ]
    }
   ],
   "source": [
    "def string1(c1):\n",
    "    \n",
    "    X1 = dict()\n",
    "    for w in c1:\n",
    "        if w in X1:\n",
    "            X1[w] = X1[w] + 1\n",
    "        else:\n",
    "            X1[w] = 1\n",
    "    \n",
    "    print(X1)\n",
    "    \n",
    "\n",
    "string1(\"hello\")"
   ]
  },
  {
   "cell_type": "code",
   "execution_count": null,
   "id": "73107044-bb76-4ffb-a117-5b699b5388d8",
   "metadata": {},
   "outputs": [],
   "source": []
  },
  {
   "cell_type": "markdown",
   "id": "e820d010-788d-4b58-b850-97cb3c69cb1c",
   "metadata": {},
   "source": [
    "2.3\n",
    "This code accepts a list of integer numbers and prints out: \n",
    "a) the smallest number in the list; \n",
    "b) the largest number in the list; \n",
    "c) the sum of the numbers in the list;  \n",
    "d) the average of the numbers in the list."
   ]
  },
  {
   "cell_type": "code",
   "execution_count": 6,
   "id": "2db9add0-d62c-4f8a-8080-7fd08d7e6007",
   "metadata": {},
   "outputs": [
    {
     "name": "stdout",
     "output_type": "stream",
     "text": [
      "The smallest number is 4\n",
      "The largest number is 8\n",
      "The sum of the numbers are 19\n",
      "The average of the numbers are 6.333333333333333\n"
     ]
    }
   ],
   "source": [
    "def three_numbers(n1,n2,n3):\n",
    "    numbers1=[n1,n2,n3]\n",
    "    print(\"The smallest number is\",min(numbers1))\n",
    "    print(\"The largest number is\",max(numbers1))\n",
    "    print(\"The sum of the numbers are\",sum(numbers1))\n",
    "    average=sum(numbers1)\n",
    "    print(\"The average of the numbers are\",average/3)\n",
    "three_numbers(4,8,7)"
   ]
  }
 ],
 "metadata": {
  "kernelspec": {
   "display_name": "Python 3 (ipykernel)",
   "language": "python",
   "name": "python3"
  },
  "language_info": {
   "codemirror_mode": {
    "name": "ipython",
    "version": 3
   },
   "file_extension": ".py",
   "mimetype": "text/x-python",
   "name": "python",
   "nbconvert_exporter": "python",
   "pygments_lexer": "ipython3",
   "version": "3.9.13"
  }
 },
 "nbformat": 4,
 "nbformat_minor": 5
}
