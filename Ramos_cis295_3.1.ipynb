{
 "cells": [
  {
   "cell_type": "markdown",
   "id": "3b3d47d1-99c6-4431-9e78-2b7df557edb0",
   "metadata": {},
   "source": [
    "I created a class for each of the object types, i.e., Book class, Magazine class, DVD class, and CD class.\n",
    "\n",
    "I added proper attributes, to their corresponding class.\n",
    "\n",
    "I added at least one behavior (i.e., method) to each class.\n",
    "\n",
    "I added an initializer to each class.\n",
    "\n",
    "I created an instance for each class.\n",
    "\n",
    "I Aassign proper values to the attributes for the instance created in 5) and invoke a method created in 3)."
   ]
  },
  {
   "cell_type": "code",
   "execution_count": 54,
   "id": "aea95078-1169-4a2f-ba75-e91bf27412e4",
   "metadata": {},
   "outputs": [
    {
     "name": "stdout",
     "output_type": "stream",
     "text": [
      "Horror\n"
     ]
    }
   ],
   "source": [
    "class Book():\n",
    "   def __init__(self, ISBN, Authors, Title, Subject, DDS_Number):\n",
    "    self.ISBN=ISBN\n",
    "    self.Authors=Authors\n",
    "    self.Title=Title\n",
    "    self.Subject=Subject\n",
    "    self.DDS_Number=DDS_Number\n",
    "    \n",
    "    print(f\"{self.Subject}\")\n",
    "IT=Book(\"1501142976\",\"Stephan King\",\"IT\",\"Horror\",\"378.29\")\n"
   ]
  },
  {
   "cell_type": "code",
   "execution_count": null,
   "id": "cc986daa-f4fe-49ae-a212-dcb97459cc41",
   "metadata": {},
   "outputs": [],
   "source": []
  }
 ],
 "metadata": {
  "kernelspec": {
   "display_name": "Python 3 (ipykernel)",
   "language": "python",
   "name": "python3"
  },
  "language_info": {
   "codemirror_mode": {
    "name": "ipython",
    "version": 3
   },
   "file_extension": ".py",
   "mimetype": "text/x-python",
   "name": "python",
   "nbconvert_exporter": "python",
   "pygments_lexer": "ipython3",
   "version": "3.9.13"
  }
 },
 "nbformat": 4,
 "nbformat_minor": 5
}
