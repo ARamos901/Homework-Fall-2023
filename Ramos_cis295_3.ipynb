{
 "cells": [
  {
   "cell_type": "markdown",
   "id": "3b3d47d1-99c6-4431-9e78-2b7df557edb0",
   "metadata": {},
   "source": [
    "1.I created a class for each of the object types, i.e., Book class, Magazine class, DVD class, and CD class.\n",
    "\n",
    "2.I added proper attributes, to their corresponding class.\n",
    "\n",
    "3.I added at least one behavior (i.e., method) to each class.\n",
    "\n",
    "4.I added an initializer to each class.\n",
    "\n",
    "5.I created an instance for each class.\n",
    "\n",
    "6.I assigned proper values to the attributes for the instance created in 5) and invoke a method created in 3)."
   ]
  },
  {
   "cell_type": "code",
   "execution_count": 30,
   "id": "37c9b907",
   "metadata": {},
   "outputs": [
    {
     "name": "stdout",
     "output_type": "stream",
     "text": [
      "Horror\n"
     ]
    }
   ],
   "source": [
    "class Book():\n",
    "    def __init__(self, ISBN, Authors, Title, Subject, DDS_Number):\n",
    "        self.ISBN = ISBN\n",
    "        self.Authors = Authors\n",
    "        self.Title = Title\n",
    "        self.Subject = Subject\n",
    "        self.DDS_Number = DDS_Number\n",
    "        \n",
    "    def get_subject(self):\n",
    "            print(f\"{self.Subject}\")\n",
    "\n",
    "IT = Book(\"1501142976\", \"Stephen King\", \"IT\", \"Horror\", \"378.29\")\n",
    "IT.get_subject()"
   ]
  },
  {
   "cell_type": "code",
   "execution_count": 33,
   "id": "cc986daa-f4fe-49ae-a212-dcb97459cc41",
   "metadata": {},
   "outputs": [
    {
     "name": "stdout",
     "output_type": "stream",
     "text": [
      "National STEM Day\n"
     ]
    }
   ],
   "source": [
    "class Magazine():\n",
    "   def __init__(self,Volume,Issue):\n",
    "    self.Volume=Volume\n",
    "    self.Issue=Issue\n",
    "    \n",
    "   def get_issue(self): \n",
    "    print(f\"{self.Issue}\")\n",
    "\n",
    "Science_Weekly=Magazine(\"2\",\"National STEM Day\")\n",
    "\n",
    "Science_Weekly.get_issue()"
   ]
  },
  {
   "cell_type": "code",
   "execution_count": 34,
   "id": "f3349c7c-aaba-49d7-b746-cbfd3f0499f5",
   "metadata": {},
   "outputs": [
    {
     "name": "stdout",
     "output_type": "stream",
     "text": [
      "Adam Sandler,Kevin James, Peter Dinklage\n"
     ]
    }
   ],
   "source": [
    "class DVD():\n",
    "   def __init__(self, Actors,Director,Genre):\n",
    "    self.Actors=Actors\n",
    "    self.Director=Director\n",
    "    self.Genre=Genre\n",
    "   def get_Actors(self): \n",
    "    print(f\"{self.Actors}\")\n",
    "Pixels=DVD(\"Adam Sandler,Kevin James, Peter Dinklage\",\"Chris Columbus\",\"Comedy,Action,Science Fiction\")\n",
    "\n",
    "Pixels.get_Actors()"
   ]
  },
  {
   "cell_type": "code",
   "execution_count": 35,
   "id": "7f5dfd60-16cb-4d09-aa54-97178a8e0af6",
   "metadata": {},
   "outputs": [
    {
     "name": "stdout",
     "output_type": "stream",
     "text": [
      "Shaggy\n"
     ]
    }
   ],
   "source": [
    "class CD():\n",
    "   def __init__(self,Artist):\n",
    "    self.Artist=Artist\n",
    "    \n",
    "   def get_Artist(self): \n",
    "    print(f\"{self.Artist}\")\n",
    "Hot_Shot=CD(\"Shaggy\")\n",
    "\n",
    "Hot_Shot.get_Artist()"
   ]
  },
  {
   "cell_type": "code",
   "execution_count": null,
   "id": "bdfa697e",
   "metadata": {},
   "outputs": [],
   "source": []
  }
 ],
 "metadata": {
  "kernelspec": {
   "display_name": "Python 3 (ipykernel)",
   "language": "python",
   "name": "python3"
  },
  "language_info": {
   "codemirror_mode": {
    "name": "ipython",
    "version": 3
   },
   "file_extension": ".py",
   "mimetype": "text/x-python",
   "name": "python",
   "nbconvert_exporter": "python",
   "pygments_lexer": "ipython3",
   "version": "3.9.13"
  }
 },
 "nbformat": 4,
 "nbformat_minor": 5
}
